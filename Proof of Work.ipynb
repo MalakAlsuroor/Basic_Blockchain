{
 "cells": [
  {
   "cell_type": "code",
   "execution_count": 1,
   "id": "7116cec1-115a-4096-b82d-f587a972b27c",
   "metadata": {},
   "outputs": [],
   "source": [
    "import hashlib \n",
    "import datetime \n"
   ]
  },
  {
   "cell_type": "code",
   "execution_count": 2,
   "id": "74ccc196-ceef-4b07-b56f-63a2a806c93b",
   "metadata": {},
   "outputs": [
    {
     "name": "stdout",
     "output_type": "stream",
     "text": [
      "The hash is: 0000000399c6aea5ad0c709a9bc331a3ed6494702bd1d129d8c817a0257a1462\n",
      "The nonce is: 665783\n",
      "Time elapsed: 0:00:08.278794\n"
     ]
    }
   ],
   "source": [
    "t1 = datetime.datetime.now() \n",
    "nonce = 1 \n",
    "solution = False\n",
    "while solution == False: \n",
    "    ourhash = hashlib.sha256(str(nonce).encode()).hexdigest() \n",
    "    if ourhash[:7] == '0000000': \n",
    "        solution =True \n",
    "    nonce +=1 \n",
    "t2 = datetime.datetime.now() \n",
    "duration = t2 - t1 \n",
    "print (\"The hash is:\",ourhash)\n",
    "print (\"The nonce is:\",nonce)    \n",
    "print (\"Time elapsed:\",duration)"
   ]
  },
  {
   "cell_type": "code",
   "execution_count": 8,
   "id": "56945dab-4e80-4d8f-88e8-8b00c25a3e6f",
   "metadata": {},
   "outputs": [
    {
     "name": "stdout",
     "output_type": "stream",
     "text": [
      "The hash is: 00000000690ed426ccf17803ebe2bd0884bcd58a1bb5e7477ead3645f356e7a9\n",
      "The nonce is: 426479725\n",
      "Time elapsed: 1:06:52.495003\n"
     ]
    }
   ],
   "source": [
    "t1 = datetime.datetime.now() \n",
    "nonce = 1 \n",
    "solution = False\n",
    "while solution == False: \n",
    "    ourhash = hashlib.sha256(str(nonce).encode()).hexdigest() \n",
    "    if ourhash[:8] == '00000000': \n",
    "        solution =True \n",
    "    nonce +=1 \n",
    "t2 = datetime.datetime.now() \n",
    "duration = t2 - t1 \n",
    "print (\"The hash is:\",ourhash)\n",
    "print (\"The nonce is:\",nonce)    \n",
    "print (\"Time elapsed:\",duration)"
   ]
  },
  {
   "cell_type": "code",
   "execution_count": null,
   "id": "0ecd27c2-51fe-49ec-a68e-3409919fa2fb",
   "metadata": {},
   "outputs": [],
   "source": []
  }
 ],
 "metadata": {
  "kernelspec": {
   "display_name": "Python 3",
   "language": "python",
   "name": "python3"
  },
  "language_info": {
   "codemirror_mode": {
    "name": "ipython",
    "version": 3
   },
   "file_extension": ".py",
   "mimetype": "text/x-python",
   "name": "python",
   "nbconvert_exporter": "python",
   "pygments_lexer": "ipython3",
   "version": "3.8.8"
  }
 },
 "nbformat": 4,
 "nbformat_minor": 5
}
